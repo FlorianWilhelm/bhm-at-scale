{
 "cells": [
  {
   "cell_type": "code",
   "execution_count": 1,
   "metadata": {},
   "outputs": [],
   "source": [
    "import os\n",
    "import sys\n",
    "import math\n",
    "import pickle\n",
    "import logging\n",
    "from pathlib import Path\n",
    "\n",
    "import scipy as sp\n",
    "\n",
    "from sklearn.linear_model import LinearRegression\n",
    "\n",
    "%load_ext autoreload\n",
    "%autoreload 2\n",
    "\n",
    "import matplotlib as mpl\n",
    "import matplotlib.pyplot as plt\n",
    "%matplotlib inline\n",
    "%config InlineBackend.figure_format = 'retina'\n",
    "\n",
    "import seaborn as sns\n",
    "sns.set_context(\"poster\")\n",
    "sns.set(rc={'figure.figsize': (16, 9.)})\n",
    "sns.set_style(\"whitegrid\")\n",
    "\n",
    "import pandas as pd\n",
    "pd.set_option(\"display.max_rows\", 120)\n",
    "pd.set_option(\"display.max_columns\", 120)\n",
    "\n",
    "logging.basicConfig(level=logging.INFO, stream=sys.stdout)\n",
    "_logger = logging.getLogger()"
   ]
  },
  {
   "cell_type": "code",
   "execution_count": 2,
   "metadata": {},
   "outputs": [],
   "source": [
    "from bhm_at_scale.handler import ModelHandler\n",
    "from bhm_at_scale.model import model, guide, local_guide, check_model_guide, predictive_model, Site\n",
    "from bhm_at_scale.utils import summary, stats_to_df, preds_to_df"
   ]
  },
  {
   "cell_type": "code",
   "execution_count": 3,
   "metadata": {},
   "outputs": [],
   "source": [
    "import jax.numpy as jnp\n",
    "from jax import random, ops\n",
    "from jax import lax\n",
    "from jax import jit\n",
    "from jax.numpy import DeviceArray\n",
    "import numpy as np\n",
    "import numpyro\n",
    "from numpyro import optim\n",
    "import numpyro.distributions as dist\n",
    "from numpyro.infer import ELBO, SVI, Predictive\n",
    "from numpyro.infer.svi import SVIState"
   ]
  },
  {
   "cell_type": "code",
   "execution_count": 4,
   "metadata": {},
   "outputs": [
    {
     "data": {
      "text/plain": [
       "(1000, 942, 24)"
      ]
     },
     "execution_count": 4,
     "metadata": {},
     "output_type": "execute_result"
    }
   ],
   "source": [
    "X_train = jnp.array(np.load('../data/preprocessed/X_train.npz')['arr_0'])\n",
    "X_train.shape"
   ]
  },
  {
   "cell_type": "markdown",
   "metadata": {},
   "source": [
    "## Fit the hierachical model"
   ]
  },
  {
   "cell_type": "code",
   "execution_count": 5,
   "metadata": {},
   "outputs": [],
   "source": [
    "check_model_guide(X_train, model=model, guide=guide)\n",
    "train_handler = ModelHandler(model=model, guide=guide)"
   ]
  },
  {
   "cell_type": "code",
   "execution_count": 6,
   "metadata": {},
   "outputs": [
    {
     "name": "stdout",
     "output_type": "stream",
     "text": [
      "epoch:    0 loss:      114879.0703\n",
      "epoch: 1000 loss:        6734.7920\n",
      "epoch: 2000 loss:        6423.1851\n",
      "epoch: 3000 loss:        6406.2021\n",
      "epoch: 4000 loss:        6383.2476\n",
      "epoch: 5000 loss:        6394.3120\n"
     ]
    },
    {
     "data": {
      "text/plain": [
       "6371.9970703125"
      ]
     },
     "execution_count": 6,
     "metadata": {},
     "output_type": "execute_result"
    }
   ],
   "source": [
    "train_handler.fit(X_train, n_epochs=5_000, log_freq=1_000, lr=0.1)"
   ]
  },
  {
   "cell_type": "code",
   "execution_count": 7,
   "metadata": {},
   "outputs": [
    {
     "name": "stdout",
     "output_type": "stream",
     "text": [
      "epoch:    0 loss:        6371.9971\n",
      "epoch:  200 loss:        6369.5137\n",
      "epoch:  400 loss:        6368.5181\n",
      "epoch:  600 loss:        6368.1230\n",
      "epoch:  800 loss:        6370.3921\n",
      "epoch: 1000 loss:        6370.7759\n"
     ]
    },
    {
     "data": {
      "text/plain": [
       "6367.5048828125"
      ]
     },
     "execution_count": 7,
     "metadata": {},
     "output_type": "execute_result"
    }
   ],
   "source": [
    "train_handler.fit(X_train, n_epochs=1_000, log_freq=200, lr=0.001)"
   ]
  },
  {
   "cell_type": "markdown",
   "metadata": {},
   "source": [
    "## Checkpoint: Save/restore current state"
   ]
  },
  {
   "cell_type": "code",
   "execution_count": 8,
   "metadata": {},
   "outputs": [],
   "source": [
    "with open('../data/result/optim_state.pickle', 'bw') as fh:\n",
    "    train_handler.dump_optim_state(fh)"
   ]
  },
  {
   "cell_type": "code",
   "execution_count": 9,
   "metadata": {},
   "outputs": [
    {
     "data": {
      "text/plain": [
       "6367.41943359375"
      ]
     },
     "execution_count": 9,
     "metadata": {},
     "output_type": "execute_result"
    }
   ],
   "source": [
    "train_handler = ModelHandler(model=model, guide=guide)\n",
    "with open('../data/result/optim_state.pickle', 'br') as fh:\n",
    "     train_handler.load_optim_state(fh)\n",
    "# this is needed to initialize `svi`\n",
    "train_handler.fit(X_train, n_epochs=100, lr=0.001)"
   ]
  },
  {
   "cell_type": "markdown",
   "metadata": {},
   "source": [
    "## Predict on training set and check fitted parameters"
   ]
  },
  {
   "cell_type": "code",
   "execution_count": 10,
   "metadata": {},
   "outputs": [],
   "source": [
    "pred_handler = ModelHandler(model=predictive_model(train_handler.model_params), guide=guide)\n",
    "pred_handler.optim_state = train_handler.optim_state "
   ]
  },
  {
   "cell_type": "code",
   "execution_count": 13,
   "metadata": {},
   "outputs": [],
   "source": [
    "preds_samples = pred_handler.predict(X_train, return_sites=[Site.days], num_samples=200)"
   ]
  },
  {
   "cell_type": "code",
   "execution_count": 14,
   "metadata": {},
   "outputs": [],
   "source": [
    "latent_samples = train_handler.predict(X_train, return_sites=[Site.coefs, Site.coef_mus, Site.coef_sigmas], num_samples=200)"
   ]
  },
  {
   "cell_type": "code",
   "execution_count": 15,
   "metadata": {},
   "outputs": [],
   "source": [
    "for site in [Site.coef_mus, Site.coef_sigmas]:\n",
    "    samples_df = pd.DataFrame(latent_samples[site])\n",
    "    samples_df.to_csv(f'../data/result/{site}.csv', index=False)"
   ]
  },
  {
   "cell_type": "code",
   "execution_count": 16,
   "metadata": {},
   "outputs": [],
   "source": [
    "stats = summary(latent_samples, poisson=True)\n",
    "df_edf = pd.read_csv('../data/preprocessed/edf.csv')\n",
    "df_stats = stats_to_df(stats, df_edf.columns[2:-1])\n",
    "df_stats.to_csv('../data/result/stats.csv', index=False)"
   ]
  },
  {
   "cell_type": "code",
   "execution_count": 18,
   "metadata": {},
   "outputs": [],
   "source": [
    "preds = summary(preds_samples, poisson=False)\n",
    "df_preds = preds_to_df(preds[Site.days])\n",
    "df_preds.to_csv('../data/result/train_preds.csv', index=False)"
   ]
  },
  {
   "cell_type": "markdown",
   "metadata": {},
   "source": [
    "## Predict on test set with only little data"
   ]
  },
  {
   "cell_type": "code",
   "execution_count": 19,
   "metadata": {},
   "outputs": [
    {
     "data": {
      "text/plain": [
       "(115, 942, 24)"
      ]
     },
     "execution_count": 19,
     "metadata": {},
     "output_type": "execute_result"
    }
   ],
   "source": [
    "X_test = jnp.array(np.load('../data/preprocessed/X_test.npz')['arr_0'])\n",
    "X_test.shape"
   ]
  },
  {
   "cell_type": "code",
   "execution_count": 20,
   "metadata": {},
   "outputs": [],
   "source": [
    "known_days = 7  # consider only known days of history\n",
    "X_test_known = X_test[:, :known_days, :]"
   ]
  },
  {
   "cell_type": "markdown",
   "metadata": {},
   "source": [
    "### Fit on known data"
   ]
  },
  {
   "cell_type": "code",
   "execution_count": 21,
   "metadata": {},
   "outputs": [],
   "source": [
    "train_local_handler = ModelHandler(model=model, guide=local_guide(train_handler.model_params))"
   ]
  },
  {
   "cell_type": "code",
   "execution_count": 22,
   "metadata": {},
   "outputs": [
    {
     "name": "stdout",
     "output_type": "stream",
     "text": [
      "epoch:    0 loss:          68.6854\n",
      "epoch:  200 loss:          49.3261\n",
      "epoch:  400 loss:          49.5041\n",
      "epoch:  600 loss:          50.0771\n",
      "epoch:  800 loss:          50.1159\n",
      "epoch: 1000 loss:          50.4853\n"
     ]
    },
    {
     "data": {
      "text/plain": [
       "49.72303771972656"
      ]
     },
     "execution_count": 22,
     "metadata": {},
     "output_type": "execute_result"
    }
   ],
   "source": [
    "train_local_handler.fit(X_test_known, n_epochs=1_000, log_freq=200, lr=0.1)"
   ]
  },
  {
   "cell_type": "code",
   "execution_count": 23,
   "metadata": {},
   "outputs": [
    {
     "name": "stdout",
     "output_type": "stream",
     "text": [
      "epoch:    0 loss:          49.7230\n",
      "epoch:  200 loss:          48.7056\n",
      "epoch:  400 loss:          48.2238\n",
      "epoch:  600 loss:          48.0156\n",
      "epoch:  800 loss:          48.2500\n",
      "epoch: 1000 loss:          48.5159\n"
     ]
    },
    {
     "data": {
      "text/plain": [
       "47.844234466552734"
      ]
     },
     "execution_count": 23,
     "metadata": {},
     "output_type": "execute_result"
    }
   ],
   "source": [
    "train_local_handler.fit(X_test_known, n_epochs=1_000, log_freq=200, lr=0.001)"
   ]
  },
  {
   "cell_type": "markdown",
   "metadata": {},
   "source": [
    "### Predict future of test data"
   ]
  },
  {
   "cell_type": "code",
   "execution_count": 24,
   "metadata": {},
   "outputs": [],
   "source": [
    "params = train_handler.model_params\n",
    "params.update(train_local_handler.model_params)\n",
    "pred_local_handler = ModelHandler(model=predictive_model(params), guide=local_guide(params))\n",
    "pred_local_handler.optim_state = train_local_handler.optim_state "
   ]
  },
  {
   "cell_type": "code",
   "execution_count": 26,
   "metadata": {},
   "outputs": [],
   "source": [
    "preds_samples = pred_local_handler.predict(X_test, return_sites=[Site.days], num_samples=200)"
   ]
  },
  {
   "cell_type": "code",
   "execution_count": 28,
   "metadata": {},
   "outputs": [],
   "source": [
    "preds = summary(preds_samples, poisson=False)\n",
    "df_preds = preds_to_df(preds[Site.days]).assign(StoreId=lambda df: df.StoreId + 1000)\n",
    "df_preds.to_csv('../data/result/test_preds.csv', index=False)"
   ]
  },
  {
   "cell_type": "markdown",
   "metadata": {},
   "source": [
    "### Compare with conventional Poisson regression using Scikit-Learn"
   ]
  },
  {
   "cell_type": "code",
   "execution_count": 29,
   "metadata": {},
   "outputs": [],
   "source": [
    "reg = LinearRegression()"
   ]
  },
  {
   "cell_type": "code",
   "execution_count": 30,
   "metadata": {},
   "outputs": [],
   "source": [
    "# select a single store_id\n",
    "store_id = 16\n",
    "X = np.nan_to_num(X_test_known, nan=1.0)[store_id, ...]\n",
    "X, y = X[:, :-1], X[:, -1]"
   ]
  },
  {
   "cell_type": "code",
   "execution_count": 31,
   "metadata": {},
   "outputs": [
    {
     "data": {
      "text/plain": [
       "LinearRegression()"
      ]
     },
     "execution_count": 31,
     "metadata": {},
     "output_type": "execute_result"
    }
   ],
   "source": [
    "# we fit on the log-transformed target to achieve a multiplicate relationship\n",
    "reg.fit(X, np.log(y))"
   ]
  },
  {
   "cell_type": "code",
   "execution_count": 32,
   "metadata": {},
   "outputs": [
    {
     "data": {
      "text/plain": [
       "array([-1.8477440e-06, -7.8125000e-03,  8.7890625e-03,  9.7656250e-04,\n",
       "        5.8593750e-03, -9.5367432e-07, -2.9296875e-03], dtype=float32)"
      ]
     },
     "execution_count": 32,
     "metadata": {},
     "output_type": "execute_result"
    }
   ],
   "source": [
    "# high overfit since we have more features than target values\n",
    "np.exp(reg.predict(X)) - y"
   ]
  },
  {
   "cell_type": "code",
   "execution_count": 34,
   "metadata": {},
   "outputs": [
    {
     "data": {
      "text/plain": [
       "DeviceArray([5633.725   , -190.56982 , -947.0298  , -159.50977 ,\n",
       "              -25.345215, 5612.475   ,  197.38965 ], dtype=float32)"
      ]
     },
     "execution_count": 34,
     "metadata": {},
     "output_type": "execute_result"
    }
   ],
   "source": [
    "# no overfitting in case of the Bayesian model\n",
    "jnp.mean(preds_samples[Site.days], axis=0)[store_id][:known_days] - y"
   ]
  },
  {
   "cell_type": "markdown",
   "metadata": {},
   "source": [
    "### Compare the coefficients of conventional regression to the hierarchical model"
   ]
  },
  {
   "cell_type": "code",
   "execution_count": 35,
   "metadata": {},
   "outputs": [
    {
     "name": "stdout",
     "output_type": "stream",
     "text": [
      "[ 1.1747563  -2.2386415   2.1442924   1.9889396   1.9385103   1.8024149\n",
      " -6.8102717   1.1747563   2.2386413  -2.2386413   0.          0.\n",
      " -0.09434899  0.          0.          0.          0.          0.\n",
      "  0.          0.          0.          0.          0.        ]\n"
     ]
    }
   ],
   "source": [
    "# for many feature there is no meaningful value, i.e. 0, since they were not encountered in training\n",
    "print(reg.coef_)"
   ]
  },
  {
   "cell_type": "code",
   "execution_count": 36,
   "metadata": {},
   "outputs": [
    {
     "name": "stdout",
     "output_type": "stream",
     "text": [
      "[2.7901888  2.6591218  2.6881874  2.6126788  2.656775   2.554397\n",
      " 2.4938385  0.33227605 3.115691   2.9264386  2.692092   2.9548435\n",
      " 0.05613964 0.06542112 2.8379264  2.9023972  3.5701406  3.2074358\n",
      " 4.0569873  2.9304545  2.7463424  2.823191   2.959007  ]\n"
     ]
    }
   ],
   "source": [
    "# using the global prior it's possible to derive meaningful values\n",
    "coefs_samples = pred_local_handler.predict(X_test_known, return_sites=[Site.coefs], num_samples=200)\n",
    "print(jnp.mean(coefs_samples[Site.coefs], axis=0)[store_id])"
   ]
  },
  {
   "cell_type": "markdown",
   "metadata": {},
   "source": [
    "## Now compare those coefficients to the ones fitted on the whole time-series"
   ]
  },
  {
   "cell_type": "code",
   "execution_count": 37,
   "metadata": {},
   "outputs": [
    {
     "name": "stdout",
     "output_type": "stream",
     "text": [
      "epoch:     0 loss:        7813.2896\n",
      "epoch:  1000 loss:        7226.9590\n",
      "epoch:  2000 loss:        7251.1680\n",
      "epoch:  3000 loss:        7163.1885\n",
      "epoch:  4000 loss:        7165.9688\n",
      "epoch:  5000 loss:        7116.7900\n",
      "epoch:  6000 loss:        7119.0649\n",
      "epoch:  7000 loss:        7192.0601\n",
      "epoch:  8000 loss:        7128.1733\n",
      "epoch:  9000 loss:        7165.4888\n",
      "epoch: 10000 loss:        7136.5723\n"
     ]
    },
    {
     "data": {
      "text/plain": [
       "7158.45068359375"
      ]
     },
     "execution_count": 37,
     "metadata": {},
     "output_type": "execute_result"
    }
   ],
   "source": [
    "all_local_handler = ModelHandler(model=model, guide=local_guide(train_handler.model_params))\n",
    "all_local_handler.fit(X_test[store_id:store_id+1], n_epochs=10_000, log_freq=1_000, lr=0.001)"
   ]
  },
  {
   "cell_type": "code",
   "execution_count": 38,
   "metadata": {},
   "outputs": [
    {
     "name": "stdout",
     "output_type": "stream",
     "text": [
      "[ 2.814997    2.7551868   2.6182172   2.6453698   2.672692    2.5201027\n",
      "  2.593036    0.2265296   3.184446    3.1163387   2.5429602   2.9477317\n",
      " -0.03218627  0.06836608  2.8726482   2.925492    3.56679     3.215817\n",
      "  4.0523443   2.9164758   2.7241356   2.8247747   2.9598234 ]\n"
     ]
    }
   ],
   "source": [
    "# many coefficients are really similar but mind the log-space!\n",
    "all_coefs_samples = all_local_handler.predict(X_test[store_id:store_id+1], return_sites=[Site.coefs], num_samples=200)\n",
    "print(jnp.mean(all_coefs_samples[Site.coefs], axis=0)[0])"
   ]
  },
  {
   "cell_type": "code",
   "execution_count": null,
   "metadata": {},
   "outputs": [],
   "source": []
  }
 ],
 "metadata": {
  "kernelspec": {
   "display_name": "Python 3",
   "language": "python",
   "name": "python3"
  },
  "language_info": {
   "codemirror_mode": {
    "name": "ipython",
    "version": 3
   },
   "file_extension": ".py",
   "mimetype": "text/x-python",
   "name": "python",
   "nbconvert_exporter": "python",
   "pygments_lexer": "ipython3",
   "version": "3.8.5"
  },
  "pycharm": {
   "stem_cell": {
    "cell_type": "raw",
    "metadata": {
     "collapsed": false
    },
    "source": []
   }
  }
 },
 "nbformat": 4,
 "nbformat_minor": 4
}
