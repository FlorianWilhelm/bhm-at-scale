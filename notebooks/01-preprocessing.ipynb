{
 "cells": [
  {
   "cell_type": "code",
   "execution_count": 1,
   "metadata": {},
   "outputs": [],
   "source": [
    "import os\n",
    "import sys\n",
    "import math\n",
    "import logging\n",
    "from pathlib import Path\n",
    "\n",
    "import numpy as np\n",
    "import scipy as sp\n",
    "\n",
    "%load_ext autoreload\n",
    "%autoreload 2\n",
    "\n",
    "import matplotlib as mpl\n",
    "import matplotlib.pyplot as plt\n",
    "%matplotlib inline\n",
    "%config InlineBackend.figure_format = 'retina'\n",
    "\n",
    "import seaborn as sns\n",
    "sns.set_context(\"poster\")\n",
    "sns.set(rc={'figure.figsize': (16, 9.)})\n",
    "sns.set_style(\"whitegrid\")\n",
    "\n",
    "import pandas as pd\n",
    "pd.set_option(\"display.max_rows\", 120)\n",
    "pd.set_option(\"display.max_columns\", 120)\n",
    "\n",
    "logging.basicConfig(level=logging.INFO, stream=sys.stdout)"
   ]
  },
  {
   "cell_type": "code",
   "execution_count": 2,
   "metadata": {},
   "outputs": [],
   "source": [
    "from bhm_at_scale.preprocess import gen_splits, gen_partitions, encode, make_cube\n",
    "from bhm_at_scale.utils import reorder_cols"
   ]
  },
  {
   "cell_type": "markdown",
   "metadata": {},
   "source": [
    "To download files from Kaggle register a user first and create a file in your homedirectory `.kaggle/kaggle.json` with content `{\"username\":\"YOURUSERNAME\",\"key\":\"YOURKEY\"}`"
   ]
  },
  {
   "cell_type": "code",
   "execution_count": 3,
   "metadata": {},
   "outputs": [],
   "source": [
    "import kaggle\n",
    "\n",
    "kaggle.api.authenticate()\n",
    "kaggle.api.dataset_download_files('pratyushakar/rossmann-store-sales', path='../data/raw', unzip=True)"
   ]
  },
  {
   "cell_type": "markdown",
   "metadata": {},
   "source": [
    "## Data cleansing and basic feature engineering"
   ]
  },
  {
   "cell_type": "code",
   "execution_count": 4,
   "metadata": {},
   "outputs": [
    {
     "name": "stderr",
     "output_type": "stream",
     "text": [
      "/Users/fwilhelm/.miniconda3/envs/bhm-at-scale/lib/python3.8/site-packages/IPython/core/interactiveshell.py:3145: DtypeWarning: Columns (7) have mixed types.Specify dtype option on import or set low_memory=False.\n",
      "  has_raised = await self.run_ast_nodes(code_ast.body, cell_name,\n"
     ]
    }
   ],
   "source": [
    "stores = pd.read_csv('../data/raw/store.csv')\n",
    "df = (pd.read_csv('../data/raw/train.csv', infer_datetime_format=True, parse_dates=['Date'])\n",
    "         .assign(StateHoliday=lambda df: df.StateHoliday.map({'a': 1, 'b': 2, 'c': 3, '0': 0, 0: 0}))\n",
    "         .merge(stores, how='left', on='Store')\n",
    "         .sort_values(['Store', 'Date'])\n",
    "         .assign(Assortment=lambda df: df.Assortment.map({'a': 1, 'b': 2, 'c': 3}))\n",
    "         .assign(StoreType=lambda df: df.StoreType.map({'a': 1, 'b': 2, 'c': 3, 'd': 4}))\n",
    "         .assign(StoreId=lambda df: df.groupby(['Store']).ngroup()) # make IDs contiguous\n",
    "         .assign(Timestep=lambda df: df.groupby(['Store'])['Date'].cumcount())\n",
    "         .assign(StoreVariant=lambda df: df['StoreType']*10 + df['Assortment'])\n",
    "         .drop([c for c in stores.columns if c.startswith('Competition')], axis=1)\n",
    "         .drop([c for c in stores.columns if c.startswith('Promo2S')], axis=1)\n",
    "         .drop(['PromoInterval', 'StoreType', 'Assortment'], axis=1)\n",
    "     )"
   ]
  },
  {
   "cell_type": "code",
   "execution_count": 5,
   "metadata": {},
   "outputs": [],
   "source": [
    "# Use this to split stores up into 'virtual' smaller stores just to demonstrate the scalability of this approach\n",
    "# df = (df.groupby('Store', as_index=False).apply(lambda df: df.assign(part=gen_partitions(len(df), 7, 22)))\n",
    "#         .reset_index(drop=True)\n",
    "#         .query('part >= 0')\n",
    "#         .assign(Store=lambda x: x.Store*1000+x.part)\n",
    "#         .drop(['part'], axis=1)\n",
    "#         .sort_values(['StoreId', 'Date'])\n",
    "#         .reset_index(drop=True))"
   ]
  },
  {
   "cell_type": "markdown",
   "metadata": {},
   "source": [
    "## Dummy encoding of categorical values"
   ]
  },
  {
   "cell_type": "code",
   "execution_count": 6,
   "metadata": {},
   "outputs": [],
   "source": [
    "edf = encode(df.drop(columns='Customers'), ['DayOfWeek', 'StoreVariant', 'StateHoliday'], drop_first=False)\n",
    "edf = edf.drop(columns=['Date', 'Store'])\n",
    "edf.loc[edf['Open'] == 0, 'Sales'] = np.nan\n",
    "edf = edf.drop(columns='Open')  # Keep the open column"
   ]
  },
  {
   "cell_type": "code",
   "execution_count": 7,
   "metadata": {},
   "outputs": [],
   "source": [
    "edf = reorder_cols(edf, first=['StoreId', 'Timestep'], last='Sales')"
   ]
  },
  {
   "cell_type": "code",
   "execution_count": 8,
   "metadata": {},
   "outputs": [],
   "source": [
    "edf.to_csv('../data/preprocessed/edf.csv', index=False)"
   ]
  },
  {
   "cell_type": "markdown",
   "metadata": {},
   "source": [
    "## Generate a multi-dimensional array for input"
   ]
  },
  {
   "cell_type": "code",
   "execution_count": 9,
   "metadata": {},
   "outputs": [],
   "source": [
    "X = make_cube(edf, ['StoreId', 'Timestep'])"
   ]
  },
  {
   "cell_type": "code",
   "execution_count": 10,
   "metadata": {},
   "outputs": [],
   "source": [
    "X_train, X_test = X[:1000, ...], X[1000:, ...]"
   ]
  },
  {
   "cell_type": "code",
   "execution_count": 11,
   "metadata": {},
   "outputs": [],
   "source": [
    "np.savez('../data/preprocessed/X_train.npz', X_train)\n",
    "np.savez('../data/preprocessed/X_test.npz', X_test)"
   ]
  },
  {
   "cell_type": "code",
   "execution_count": 12,
   "metadata": {},
   "outputs": [],
   "source": [
    "df.to_csv('../data/result/df.csv', index=False)"
   ]
  },
  {
   "cell_type": "code",
   "execution_count": null,
   "metadata": {},
   "outputs": [],
   "source": []
  }
 ],
 "metadata": {
  "kernelspec": {
   "display_name": "Python 3",
   "language": "python",
   "name": "python3"
  },
  "language_info": {
   "codemirror_mode": {
    "name": "ipython",
    "version": 3
   },
   "file_extension": ".py",
   "mimetype": "text/x-python",
   "name": "python",
   "nbconvert_exporter": "python",
   "pygments_lexer": "ipython3",
   "version": "3.8.5"
  },
  "pycharm": {
   "stem_cell": {
    "cell_type": "raw",
    "metadata": {
     "collapsed": false
    },
    "source": []
   }
  }
 },
 "nbformat": 4,
 "nbformat_minor": 4
}
